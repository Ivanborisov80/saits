{
  "cells": [
    {
      "cell_type": "code",
      "execution_count": 4,
      "metadata": {
        "id": "TDf1Ctd3yVID"
      },
      "outputs": [],
      "source": [
        "import os\n",
        "import sys\n",
        "\n",
        "import numpy as np\n",
        "import pandas as pd\n",
        "from sklearn.preprocessing import StandardScaler\n",
        "#from tsdb import pickle_dump\n",
        "import argparse\n",
        "from unified_dataloader import UnifiedDataLoader\n",
        "from saitsd import SAITS\n",
        "sys.path.append(\"..\")\n",
        "\n",
        "from data_processing_utils import (\n",
        "    window_truncate,\n",
        "    random_mask,\n",
        "    add_artificial_mask,\n",
        "    saving_into_h5,\n",
        ")\n",
        "from datetime import datetime\n",
        "import torch.nn as nn\n",
        "import torch"
      ]
    },
    {
      "cell_type": "code",
      "source": [
        "%cd /content/drive/MyDrive/saits"
      ],
      "metadata": {
        "colab": {
          "base_uri": "https://localhost:8080/"
        },
        "id": "oPf3Wtjdyw8m",
        "outputId": "2c7ebd20-b137-43ee-d616-f448e5a424ec"
      },
      "execution_count": 3,
      "outputs": [
        {
          "output_type": "stream",
          "name": "stdout",
          "text": [
            "/content/drive/MyDrive/saits\n"
          ]
        }
      ]
    },
    {
      "cell_type": "code",
      "execution_count": 2,
      "metadata": {
        "colab": {
          "base_uri": "https://localhost:8080/"
        },
        "id": "lseCg3x7yVIJ",
        "outputId": "bbc63373-3e06-4c8b-9554-74d5134f1edc"
      },
      "outputs": [
        {
          "output_type": "stream",
          "name": "stdout",
          "text": [
            "Mounted at /content/drive\n"
          ]
        }
      ],
      "source": [
        "from google.colab import drive\n",
        "drive.mount('/content/drive')"
      ]
    },
    {
      "cell_type": "code",
      "execution_count": 5,
      "metadata": {
        "id": "4PuKoZ5CyVIK"
      },
      "outputs": [],
      "source": [
        "from scipy.stats import norm"
      ]
    },
    {
      "cell_type": "code",
      "execution_count": 7,
      "metadata": {
        "id": "ZKVsuCDuyVIL"
      },
      "outputs": [],
      "source": [
        "MODEL_DICT = {\n",
        "    # Self-Attention (SA) based\n",
        "\n",
        "    \"SAITS\": SAITS,\n",
        "    # RNN based\n",
        "\n",
        "}"
      ]
    },
    {
      "cell_type": "code",
      "execution_count": 8,
      "metadata": {
        "id": "wejR_zNmyVIL"
      },
      "outputs": [],
      "source": [
        "\n",
        "\n",
        "\n",
        "\n",
        "def ornstein_uhlenbeck(x0, theta, mu, sigma, dt, num_steps, num_samples):\n",
        "    x = np.zeros((num_steps, num_samples))\n",
        "    x[0] = x0\n",
        "    for t in range(1, num_steps):\n",
        "        if t<7:\n",
        "            x[t] = x[t-1] + theta * (mu - x[t-1]) * dt + sigma * np.sqrt(dt) * np.ones(num_samples)\n",
        "        else:\n",
        "            x[t] = x[t-1] + theta * (mu - x[t-1]) * dt + sigma * np.sqrt(dt) * np.random.normal(num_samples)\n",
        "    return x\n",
        "\n",
        "# Parameters\n",
        "x0 = 0  # Initial value\n",
        "theta = 0.1  # Rate of reversion\n",
        "mu = 0.5  # Long-term mean\n",
        "sigma = 0.3  # Volatility\n",
        "dt = 0.01  # Time step\n",
        "num_steps = 8  # Number of steps\n",
        "num_samples =45 # Number of samples at each step\n",
        "\n",
        "# Simulate Ornstein-Uhlenbeck process\n",
        "ou_process = ornstein_uhlenbeck(x0, theta, mu, sigma, dt, num_steps, num_samples)\n",
        "\n",
        "\n"
      ]
    },
    {
      "cell_type": "code",
      "execution_count": 9,
      "metadata": {
        "id": "CSBhpbuAyVIM"
      },
      "outputs": [],
      "source": [
        " # volatility\n",
        "delta_t = 1  # time step size\n",
        "\n",
        "\n",
        "\n",
        "dt = delta_t\n",
        "mean = ou_process[6, :] * np.exp(-theta * dt) + mu * (1 - np.exp(-theta * dt))\n",
        "variance = (sigma**2 / (2 * theta)) * (1 - np.exp(-2 * theta * dt))\n",
        "ou_process[7, :] = mean + np.random.normal(0, np.sqrt(variance), num_samples)"
      ]
    },
    {
      "cell_type": "code",
      "execution_count": null,
      "metadata": {
        "id": "vLx2ns0dyVIM"
      },
      "outputs": [],
      "source": [
        "empty=np.empty(0)"
      ]
    },
    {
      "cell_type": "code",
      "source": [
        "variance"
      ],
      "metadata": {
        "colab": {
          "base_uri": "https://localhost:8080/"
        },
        "id": "i7eB4syyMav6",
        "outputId": "98fe2d30-59e2-4912-ef41-f4b5d76a3be1"
      },
      "execution_count": 98,
      "outputs": [
        {
          "output_type": "execute_result",
          "data": {
            "text/plain": [
              "0.08157116111490817"
            ]
          },
          "metadata": {},
          "execution_count": 98
        }
      ]
    },
    {
      "cell_type": "code",
      "execution_count": null,
      "metadata": {
        "id": "cGnhDEmjyVIN",
        "outputId": "c2eaeaac-9b6a-4152-8094-00c133e9d653"
      },
      "outputs": [
        {
          "data": {
            "text/plain": [
              "45"
            ]
          },
          "execution_count": 6,
          "metadata": {},
          "output_type": "execute_result"
        }
      ],
      "source": [
        "num_samples"
      ]
    },
    {
      "cell_type": "code",
      "execution_count": null,
      "metadata": {
        "id": "scno3CwqyVIN"
      },
      "outputs": [],
      "source": [
        "for i in range(45):\n",
        "    mean=np.repeat(ou_process[7, i] * np.exp(-theta * dt) + mu * (1 - np.exp(-theta * dt)),45)\n",
        "    variance = np.repeat((sigma**2 / (2 * theta)) * (1 - np.exp(-2 * theta * dt)),45)\n",
        "\n",
        "    ou_new=mean + np.random.normal(0, np.sqrt(variance),num_samples)\n",
        "    empty=np.append(empty,ou_new)\n",
        ""
      ]
    },
    {
      "cell_type": "code",
      "execution_count": null,
      "metadata": {
        "id": "1VhUFVMCyVIO",
        "outputId": "6cd1cb20-6535-4011-aef2-0832394baf57"
      },
      "outputs": [
        {
          "data": {
            "text/plain": [
              "array([-0.32801771,  0.39889443, -0.24801868, ...,  0.27618894,\n",
              "        0.16236607,  0.66707857])"
            ]
          },
          "execution_count": 8,
          "metadata": {},
          "output_type": "execute_result"
        }
      ],
      "source": [
        "empty"
      ]
    },
    {
      "cell_type": "code",
      "execution_count": 10,
      "metadata": {
        "id": "IH_m8LOKyVIO"
      },
      "outputs": [],
      "source": [
        "df=pd.DataFrame(ou_process)"
      ]
    },
    {
      "cell_type": "code",
      "execution_count": null,
      "metadata": {
        "id": "uX1PLbczyVIP"
      },
      "outputs": [],
      "source": [
        "result_df = pd.DataFrame()\n"
      ]
    },
    {
      "cell_type": "code",
      "execution_count": null,
      "metadata": {
        "id": "mRaR0MjryVIP"
      },
      "outputs": [],
      "source": [
        "for col in df.columns:\n",
        "    # Duplicate the current column 50 times and add to the result DataFrame\n",
        "    duplicated_columns = pd.concat([df[col]] * 45, axis=1)\n",
        "    # Rename the columns to indicate their original name and index\n",
        "    duplicated_columns.columns = [f'{col}_{i+1}' for i in range(45)]\n",
        "    # Append to the result DataFrame\n",
        "    result_df = pd.concat([result_df, duplicated_columns], axis=1)\n",
        "\n"
      ]
    },
    {
      "cell_type": "code",
      "execution_count": null,
      "metadata": {
        "id": "maWo-ZsfyVIP"
      },
      "outputs": [],
      "source": [
        "result_df = result_df.append(pd.Series(empty, index=result_df.columns), ignore_index=True)\n",
        "\n",
        "\n"
      ]
    },
    {
      "cell_type": "code",
      "execution_count": 11,
      "metadata": {
        "colab": {
          "base_uri": "https://localhost:8080/",
          "height": 346
        },
        "id": "lUNRagCXyVIQ",
        "outputId": "f0b7f52d-4d71-40e0-e943-719cb6296287"
      },
      "outputs": [
        {
          "output_type": "execute_result",
          "data": {
            "text/plain": [
              "         0         1         2         3         4         5         6   \\\n",
              "0  0.000000  0.000000  0.000000  0.000000  0.000000  0.000000  0.000000   \n",
              "1  0.030500  0.030500  0.030500  0.030500  0.030500  0.030500  0.030500   \n",
              "2  0.060969  0.060969  0.060969  0.060969  0.060969  0.060969  0.060969   \n",
              "3  0.091409  0.091409  0.091409  0.091409  0.091409  0.091409  0.091409   \n",
              "4  0.121817  0.121817  0.121817  0.121817  0.121817  0.121817  0.121817   \n",
              "5  0.152195  0.152195  0.152195  0.152195  0.152195  0.152195  0.152195   \n",
              "6  0.182543  0.182543  0.182543  0.182543  0.182543  0.182543  0.182543   \n",
              "7  0.160219 -0.444650  0.666671  0.615364  0.412741  0.185146 -0.043886   \n",
              "\n",
              "         7         8         9   ...        35        36        37        38  \\\n",
              "0  0.000000  0.000000  0.000000  ...  0.000000  0.000000  0.000000  0.000000   \n",
              "1  0.030500  0.030500  0.030500  ...  0.030500  0.030500  0.030500  0.030500   \n",
              "2  0.060969  0.060969  0.060969  ...  0.060969  0.060969  0.060969  0.060969   \n",
              "3  0.091409  0.091409  0.091409  ...  0.091409  0.091409  0.091409  0.091409   \n",
              "4  0.121817  0.121817  0.121817  ...  0.121817  0.121817  0.121817  0.121817   \n",
              "5  0.152195  0.152195  0.152195  ...  0.152195  0.152195  0.152195  0.152195   \n",
              "6  0.182543  0.182543  0.182543  ...  0.182543  0.182543  0.182543  0.182543   \n",
              "7  0.600151  0.817910  0.482079  ...  0.187284  0.517726  0.353534  0.017573   \n",
              "\n",
              "         39        40        41        42        43        44  \n",
              "0  0.000000  0.000000  0.000000  0.000000  0.000000  0.000000  \n",
              "1  0.030500  0.030500  0.030500  0.030500  0.030500  0.030500  \n",
              "2  0.060969  0.060969  0.060969  0.060969  0.060969  0.060969  \n",
              "3  0.091409  0.091409  0.091409  0.091409  0.091409  0.091409  \n",
              "4  0.121817  0.121817  0.121817  0.121817  0.121817  0.121817  \n",
              "5  0.152195  0.152195  0.152195  0.152195  0.152195  0.152195  \n",
              "6  0.182543  0.182543  0.182543  0.182543  0.182543  0.182543  \n",
              "7  0.399901  0.181000  0.389982  0.384007  0.320481  0.539550  \n",
              "\n",
              "[8 rows x 45 columns]"
            ],
            "text/html": [
              "\n",
              "  <div id=\"df-a1277ef8-bcb2-4313-999d-edda896272d6\" class=\"colab-df-container\">\n",
              "    <div>\n",
              "<style scoped>\n",
              "    .dataframe tbody tr th:only-of-type {\n",
              "        vertical-align: middle;\n",
              "    }\n",
              "\n",
              "    .dataframe tbody tr th {\n",
              "        vertical-align: top;\n",
              "    }\n",
              "\n",
              "    .dataframe thead th {\n",
              "        text-align: right;\n",
              "    }\n",
              "</style>\n",
              "<table border=\"1\" class=\"dataframe\">\n",
              "  <thead>\n",
              "    <tr style=\"text-align: right;\">\n",
              "      <th></th>\n",
              "      <th>0</th>\n",
              "      <th>1</th>\n",
              "      <th>2</th>\n",
              "      <th>3</th>\n",
              "      <th>4</th>\n",
              "      <th>5</th>\n",
              "      <th>6</th>\n",
              "      <th>7</th>\n",
              "      <th>8</th>\n",
              "      <th>9</th>\n",
              "      <th>...</th>\n",
              "      <th>35</th>\n",
              "      <th>36</th>\n",
              "      <th>37</th>\n",
              "      <th>38</th>\n",
              "      <th>39</th>\n",
              "      <th>40</th>\n",
              "      <th>41</th>\n",
              "      <th>42</th>\n",
              "      <th>43</th>\n",
              "      <th>44</th>\n",
              "    </tr>\n",
              "  </thead>\n",
              "  <tbody>\n",
              "    <tr>\n",
              "      <th>0</th>\n",
              "      <td>0.000000</td>\n",
              "      <td>0.000000</td>\n",
              "      <td>0.000000</td>\n",
              "      <td>0.000000</td>\n",
              "      <td>0.000000</td>\n",
              "      <td>0.000000</td>\n",
              "      <td>0.000000</td>\n",
              "      <td>0.000000</td>\n",
              "      <td>0.000000</td>\n",
              "      <td>0.000000</td>\n",
              "      <td>...</td>\n",
              "      <td>0.000000</td>\n",
              "      <td>0.000000</td>\n",
              "      <td>0.000000</td>\n",
              "      <td>0.000000</td>\n",
              "      <td>0.000000</td>\n",
              "      <td>0.000000</td>\n",
              "      <td>0.000000</td>\n",
              "      <td>0.000000</td>\n",
              "      <td>0.000000</td>\n",
              "      <td>0.000000</td>\n",
              "    </tr>\n",
              "    <tr>\n",
              "      <th>1</th>\n",
              "      <td>0.030500</td>\n",
              "      <td>0.030500</td>\n",
              "      <td>0.030500</td>\n",
              "      <td>0.030500</td>\n",
              "      <td>0.030500</td>\n",
              "      <td>0.030500</td>\n",
              "      <td>0.030500</td>\n",
              "      <td>0.030500</td>\n",
              "      <td>0.030500</td>\n",
              "      <td>0.030500</td>\n",
              "      <td>...</td>\n",
              "      <td>0.030500</td>\n",
              "      <td>0.030500</td>\n",
              "      <td>0.030500</td>\n",
              "      <td>0.030500</td>\n",
              "      <td>0.030500</td>\n",
              "      <td>0.030500</td>\n",
              "      <td>0.030500</td>\n",
              "      <td>0.030500</td>\n",
              "      <td>0.030500</td>\n",
              "      <td>0.030500</td>\n",
              "    </tr>\n",
              "    <tr>\n",
              "      <th>2</th>\n",
              "      <td>0.060969</td>\n",
              "      <td>0.060969</td>\n",
              "      <td>0.060969</td>\n",
              "      <td>0.060969</td>\n",
              "      <td>0.060969</td>\n",
              "      <td>0.060969</td>\n",
              "      <td>0.060969</td>\n",
              "      <td>0.060969</td>\n",
              "      <td>0.060969</td>\n",
              "      <td>0.060969</td>\n",
              "      <td>...</td>\n",
              "      <td>0.060969</td>\n",
              "      <td>0.060969</td>\n",
              "      <td>0.060969</td>\n",
              "      <td>0.060969</td>\n",
              "      <td>0.060969</td>\n",
              "      <td>0.060969</td>\n",
              "      <td>0.060969</td>\n",
              "      <td>0.060969</td>\n",
              "      <td>0.060969</td>\n",
              "      <td>0.060969</td>\n",
              "    </tr>\n",
              "    <tr>\n",
              "      <th>3</th>\n",
              "      <td>0.091409</td>\n",
              "      <td>0.091409</td>\n",
              "      <td>0.091409</td>\n",
              "      <td>0.091409</td>\n",
              "      <td>0.091409</td>\n",
              "      <td>0.091409</td>\n",
              "      <td>0.091409</td>\n",
              "      <td>0.091409</td>\n",
              "      <td>0.091409</td>\n",
              "      <td>0.091409</td>\n",
              "      <td>...</td>\n",
              "      <td>0.091409</td>\n",
              "      <td>0.091409</td>\n",
              "      <td>0.091409</td>\n",
              "      <td>0.091409</td>\n",
              "      <td>0.091409</td>\n",
              "      <td>0.091409</td>\n",
              "      <td>0.091409</td>\n",
              "      <td>0.091409</td>\n",
              "      <td>0.091409</td>\n",
              "      <td>0.091409</td>\n",
              "    </tr>\n",
              "    <tr>\n",
              "      <th>4</th>\n",
              "      <td>0.121817</td>\n",
              "      <td>0.121817</td>\n",
              "      <td>0.121817</td>\n",
              "      <td>0.121817</td>\n",
              "      <td>0.121817</td>\n",
              "      <td>0.121817</td>\n",
              "      <td>0.121817</td>\n",
              "      <td>0.121817</td>\n",
              "      <td>0.121817</td>\n",
              "      <td>0.121817</td>\n",
              "      <td>...</td>\n",
              "      <td>0.121817</td>\n",
              "      <td>0.121817</td>\n",
              "      <td>0.121817</td>\n",
              "      <td>0.121817</td>\n",
              "      <td>0.121817</td>\n",
              "      <td>0.121817</td>\n",
              "      <td>0.121817</td>\n",
              "      <td>0.121817</td>\n",
              "      <td>0.121817</td>\n",
              "      <td>0.121817</td>\n",
              "    </tr>\n",
              "    <tr>\n",
              "      <th>5</th>\n",
              "      <td>0.152195</td>\n",
              "      <td>0.152195</td>\n",
              "      <td>0.152195</td>\n",
              "      <td>0.152195</td>\n",
              "      <td>0.152195</td>\n",
              "      <td>0.152195</td>\n",
              "      <td>0.152195</td>\n",
              "      <td>0.152195</td>\n",
              "      <td>0.152195</td>\n",
              "      <td>0.152195</td>\n",
              "      <td>...</td>\n",
              "      <td>0.152195</td>\n",
              "      <td>0.152195</td>\n",
              "      <td>0.152195</td>\n",
              "      <td>0.152195</td>\n",
              "      <td>0.152195</td>\n",
              "      <td>0.152195</td>\n",
              "      <td>0.152195</td>\n",
              "      <td>0.152195</td>\n",
              "      <td>0.152195</td>\n",
              "      <td>0.152195</td>\n",
              "    </tr>\n",
              "    <tr>\n",
              "      <th>6</th>\n",
              "      <td>0.182543</td>\n",
              "      <td>0.182543</td>\n",
              "      <td>0.182543</td>\n",
              "      <td>0.182543</td>\n",
              "      <td>0.182543</td>\n",
              "      <td>0.182543</td>\n",
              "      <td>0.182543</td>\n",
              "      <td>0.182543</td>\n",
              "      <td>0.182543</td>\n",
              "      <td>0.182543</td>\n",
              "      <td>...</td>\n",
              "      <td>0.182543</td>\n",
              "      <td>0.182543</td>\n",
              "      <td>0.182543</td>\n",
              "      <td>0.182543</td>\n",
              "      <td>0.182543</td>\n",
              "      <td>0.182543</td>\n",
              "      <td>0.182543</td>\n",
              "      <td>0.182543</td>\n",
              "      <td>0.182543</td>\n",
              "      <td>0.182543</td>\n",
              "    </tr>\n",
              "    <tr>\n",
              "      <th>7</th>\n",
              "      <td>0.160219</td>\n",
              "      <td>-0.444650</td>\n",
              "      <td>0.666671</td>\n",
              "      <td>0.615364</td>\n",
              "      <td>0.412741</td>\n",
              "      <td>0.185146</td>\n",
              "      <td>-0.043886</td>\n",
              "      <td>0.600151</td>\n",
              "      <td>0.817910</td>\n",
              "      <td>0.482079</td>\n",
              "      <td>...</td>\n",
              "      <td>0.187284</td>\n",
              "      <td>0.517726</td>\n",
              "      <td>0.353534</td>\n",
              "      <td>0.017573</td>\n",
              "      <td>0.399901</td>\n",
              "      <td>0.181000</td>\n",
              "      <td>0.389982</td>\n",
              "      <td>0.384007</td>\n",
              "      <td>0.320481</td>\n",
              "      <td>0.539550</td>\n",
              "    </tr>\n",
              "  </tbody>\n",
              "</table>\n",
              "<p>8 rows × 45 columns</p>\n",
              "</div>\n",
              "    <div class=\"colab-df-buttons\">\n",
              "\n",
              "  <div class=\"colab-df-container\">\n",
              "    <button class=\"colab-df-convert\" onclick=\"convertToInteractive('df-a1277ef8-bcb2-4313-999d-edda896272d6')\"\n",
              "            title=\"Convert this dataframe to an interactive table.\"\n",
              "            style=\"display:none;\">\n",
              "\n",
              "  <svg xmlns=\"http://www.w3.org/2000/svg\" height=\"24px\" viewBox=\"0 -960 960 960\">\n",
              "    <path d=\"M120-120v-720h720v720H120Zm60-500h600v-160H180v160Zm220 220h160v-160H400v160Zm0 220h160v-160H400v160ZM180-400h160v-160H180v160Zm440 0h160v-160H620v160ZM180-180h160v-160H180v160Zm440 0h160v-160H620v160Z\"/>\n",
              "  </svg>\n",
              "    </button>\n",
              "\n",
              "  <style>\n",
              "    .colab-df-container {\n",
              "      display:flex;\n",
              "      gap: 12px;\n",
              "    }\n",
              "\n",
              "    .colab-df-convert {\n",
              "      background-color: #E8F0FE;\n",
              "      border: none;\n",
              "      border-radius: 50%;\n",
              "      cursor: pointer;\n",
              "      display: none;\n",
              "      fill: #1967D2;\n",
              "      height: 32px;\n",
              "      padding: 0 0 0 0;\n",
              "      width: 32px;\n",
              "    }\n",
              "\n",
              "    .colab-df-convert:hover {\n",
              "      background-color: #E2EBFA;\n",
              "      box-shadow: 0px 1px 2px rgba(60, 64, 67, 0.3), 0px 1px 3px 1px rgba(60, 64, 67, 0.15);\n",
              "      fill: #174EA6;\n",
              "    }\n",
              "\n",
              "    .colab-df-buttons div {\n",
              "      margin-bottom: 4px;\n",
              "    }\n",
              "\n",
              "    [theme=dark] .colab-df-convert {\n",
              "      background-color: #3B4455;\n",
              "      fill: #D2E3FC;\n",
              "    }\n",
              "\n",
              "    [theme=dark] .colab-df-convert:hover {\n",
              "      background-color: #434B5C;\n",
              "      box-shadow: 0px 1px 3px 1px rgba(0, 0, 0, 0.15);\n",
              "      filter: drop-shadow(0px 1px 2px rgba(0, 0, 0, 0.3));\n",
              "      fill: #FFFFFF;\n",
              "    }\n",
              "  </style>\n",
              "\n",
              "    <script>\n",
              "      const buttonEl =\n",
              "        document.querySelector('#df-a1277ef8-bcb2-4313-999d-edda896272d6 button.colab-df-convert');\n",
              "      buttonEl.style.display =\n",
              "        google.colab.kernel.accessAllowed ? 'block' : 'none';\n",
              "\n",
              "      async function convertToInteractive(key) {\n",
              "        const element = document.querySelector('#df-a1277ef8-bcb2-4313-999d-edda896272d6');\n",
              "        const dataTable =\n",
              "          await google.colab.kernel.invokeFunction('convertToInteractive',\n",
              "                                                    [key], {});\n",
              "        if (!dataTable) return;\n",
              "\n",
              "        const docLinkHtml = 'Like what you see? Visit the ' +\n",
              "          '<a target=\"_blank\" href=https://colab.research.google.com/notebooks/data_table.ipynb>data table notebook</a>'\n",
              "          + ' to learn more about interactive tables.';\n",
              "        element.innerHTML = '';\n",
              "        dataTable['output_type'] = 'display_data';\n",
              "        await google.colab.output.renderOutput(dataTable, element);\n",
              "        const docLink = document.createElement('div');\n",
              "        docLink.innerHTML = docLinkHtml;\n",
              "        element.appendChild(docLink);\n",
              "      }\n",
              "    </script>\n",
              "  </div>\n",
              "\n",
              "\n",
              "<div id=\"df-66e13346-fa80-4fd7-9e7e-5c6f4d67a56b\">\n",
              "  <button class=\"colab-df-quickchart\" onclick=\"quickchart('df-66e13346-fa80-4fd7-9e7e-5c6f4d67a56b')\"\n",
              "            title=\"Suggest charts\"\n",
              "            style=\"display:none;\">\n",
              "\n",
              "<svg xmlns=\"http://www.w3.org/2000/svg\" height=\"24px\"viewBox=\"0 0 24 24\"\n",
              "     width=\"24px\">\n",
              "    <g>\n",
              "        <path d=\"M19 3H5c-1.1 0-2 .9-2 2v14c0 1.1.9 2 2 2h14c1.1 0 2-.9 2-2V5c0-1.1-.9-2-2-2zM9 17H7v-7h2v7zm4 0h-2V7h2v10zm4 0h-2v-4h2v4z\"/>\n",
              "    </g>\n",
              "</svg>\n",
              "  </button>\n",
              "\n",
              "<style>\n",
              "  .colab-df-quickchart {\n",
              "      --bg-color: #E8F0FE;\n",
              "      --fill-color: #1967D2;\n",
              "      --hover-bg-color: #E2EBFA;\n",
              "      --hover-fill-color: #174EA6;\n",
              "      --disabled-fill-color: #AAA;\n",
              "      --disabled-bg-color: #DDD;\n",
              "  }\n",
              "\n",
              "  [theme=dark] .colab-df-quickchart {\n",
              "      --bg-color: #3B4455;\n",
              "      --fill-color: #D2E3FC;\n",
              "      --hover-bg-color: #434B5C;\n",
              "      --hover-fill-color: #FFFFFF;\n",
              "      --disabled-bg-color: #3B4455;\n",
              "      --disabled-fill-color: #666;\n",
              "  }\n",
              "\n",
              "  .colab-df-quickchart {\n",
              "    background-color: var(--bg-color);\n",
              "    border: none;\n",
              "    border-radius: 50%;\n",
              "    cursor: pointer;\n",
              "    display: none;\n",
              "    fill: var(--fill-color);\n",
              "    height: 32px;\n",
              "    padding: 0;\n",
              "    width: 32px;\n",
              "  }\n",
              "\n",
              "  .colab-df-quickchart:hover {\n",
              "    background-color: var(--hover-bg-color);\n",
              "    box-shadow: 0 1px 2px rgba(60, 64, 67, 0.3), 0 1px 3px 1px rgba(60, 64, 67, 0.15);\n",
              "    fill: var(--button-hover-fill-color);\n",
              "  }\n",
              "\n",
              "  .colab-df-quickchart-complete:disabled,\n",
              "  .colab-df-quickchart-complete:disabled:hover {\n",
              "    background-color: var(--disabled-bg-color);\n",
              "    fill: var(--disabled-fill-color);\n",
              "    box-shadow: none;\n",
              "  }\n",
              "\n",
              "  .colab-df-spinner {\n",
              "    border: 2px solid var(--fill-color);\n",
              "    border-color: transparent;\n",
              "    border-bottom-color: var(--fill-color);\n",
              "    animation:\n",
              "      spin 1s steps(1) infinite;\n",
              "  }\n",
              "\n",
              "  @keyframes spin {\n",
              "    0% {\n",
              "      border-color: transparent;\n",
              "      border-bottom-color: var(--fill-color);\n",
              "      border-left-color: var(--fill-color);\n",
              "    }\n",
              "    20% {\n",
              "      border-color: transparent;\n",
              "      border-left-color: var(--fill-color);\n",
              "      border-top-color: var(--fill-color);\n",
              "    }\n",
              "    30% {\n",
              "      border-color: transparent;\n",
              "      border-left-color: var(--fill-color);\n",
              "      border-top-color: var(--fill-color);\n",
              "      border-right-color: var(--fill-color);\n",
              "    }\n",
              "    40% {\n",
              "      border-color: transparent;\n",
              "      border-right-color: var(--fill-color);\n",
              "      border-top-color: var(--fill-color);\n",
              "    }\n",
              "    60% {\n",
              "      border-color: transparent;\n",
              "      border-right-color: var(--fill-color);\n",
              "    }\n",
              "    80% {\n",
              "      border-color: transparent;\n",
              "      border-right-color: var(--fill-color);\n",
              "      border-bottom-color: var(--fill-color);\n",
              "    }\n",
              "    90% {\n",
              "      border-color: transparent;\n",
              "      border-bottom-color: var(--fill-color);\n",
              "    }\n",
              "  }\n",
              "</style>\n",
              "\n",
              "  <script>\n",
              "    async function quickchart(key) {\n",
              "      const quickchartButtonEl =\n",
              "        document.querySelector('#' + key + ' button');\n",
              "      quickchartButtonEl.disabled = true;  // To prevent multiple clicks.\n",
              "      quickchartButtonEl.classList.add('colab-df-spinner');\n",
              "      try {\n",
              "        const charts = await google.colab.kernel.invokeFunction(\n",
              "            'suggestCharts', [key], {});\n",
              "      } catch (error) {\n",
              "        console.error('Error during call to suggestCharts:', error);\n",
              "      }\n",
              "      quickchartButtonEl.classList.remove('colab-df-spinner');\n",
              "      quickchartButtonEl.classList.add('colab-df-quickchart-complete');\n",
              "    }\n",
              "    (() => {\n",
              "      let quickchartButtonEl =\n",
              "        document.querySelector('#df-66e13346-fa80-4fd7-9e7e-5c6f4d67a56b button');\n",
              "      quickchartButtonEl.style.display =\n",
              "        google.colab.kernel.accessAllowed ? 'block' : 'none';\n",
              "    })();\n",
              "  </script>\n",
              "</div>\n",
              "\n",
              "  <div id=\"id_7c021635-22d3-4e4d-a8f3-2e6c75b54676\">\n",
              "    <style>\n",
              "      .colab-df-generate {\n",
              "        background-color: #E8F0FE;\n",
              "        border: none;\n",
              "        border-radius: 50%;\n",
              "        cursor: pointer;\n",
              "        display: none;\n",
              "        fill: #1967D2;\n",
              "        height: 32px;\n",
              "        padding: 0 0 0 0;\n",
              "        width: 32px;\n",
              "      }\n",
              "\n",
              "      .colab-df-generate:hover {\n",
              "        background-color: #E2EBFA;\n",
              "        box-shadow: 0px 1px 2px rgba(60, 64, 67, 0.3), 0px 1px 3px 1px rgba(60, 64, 67, 0.15);\n",
              "        fill: #174EA6;\n",
              "      }\n",
              "\n",
              "      [theme=dark] .colab-df-generate {\n",
              "        background-color: #3B4455;\n",
              "        fill: #D2E3FC;\n",
              "      }\n",
              "\n",
              "      [theme=dark] .colab-df-generate:hover {\n",
              "        background-color: #434B5C;\n",
              "        box-shadow: 0px 1px 3px 1px rgba(0, 0, 0, 0.15);\n",
              "        filter: drop-shadow(0px 1px 2px rgba(0, 0, 0, 0.3));\n",
              "        fill: #FFFFFF;\n",
              "      }\n",
              "    </style>\n",
              "    <button class=\"colab-df-generate\" onclick=\"generateWithVariable('df')\"\n",
              "            title=\"Generate code using this dataframe.\"\n",
              "            style=\"display:none;\">\n",
              "\n",
              "  <svg xmlns=\"http://www.w3.org/2000/svg\" height=\"24px\"viewBox=\"0 0 24 24\"\n",
              "       width=\"24px\">\n",
              "    <path d=\"M7,19H8.4L18.45,9,17,7.55,7,17.6ZM5,21V16.75L18.45,3.32a2,2,0,0,1,2.83,0l1.4,1.43a1.91,1.91,0,0,1,.58,1.4,1.91,1.91,0,0,1-.58,1.4L9.25,21ZM18.45,9,17,7.55Zm-12,3A5.31,5.31,0,0,0,4.9,8.1,5.31,5.31,0,0,0,1,6.5,5.31,5.31,0,0,0,4.9,4.9,5.31,5.31,0,0,0,6.5,1,5.31,5.31,0,0,0,8.1,4.9,5.31,5.31,0,0,0,12,6.5,5.46,5.46,0,0,0,6.5,12Z\"/>\n",
              "  </svg>\n",
              "    </button>\n",
              "    <script>\n",
              "      (() => {\n",
              "      const buttonEl =\n",
              "        document.querySelector('#id_7c021635-22d3-4e4d-a8f3-2e6c75b54676 button.colab-df-generate');\n",
              "      buttonEl.style.display =\n",
              "        google.colab.kernel.accessAllowed ? 'block' : 'none';\n",
              "\n",
              "      buttonEl.onclick = () => {\n",
              "        google.colab.notebook.generateWithVariable('df');\n",
              "      }\n",
              "      })();\n",
              "    </script>\n",
              "  </div>\n",
              "\n",
              "    </div>\n",
              "  </div>\n"
            ],
            "application/vnd.google.colaboratory.intrinsic+json": {
              "type": "dataframe",
              "variable_name": "df"
            }
          },
          "metadata": {},
          "execution_count": 11
        }
      ],
      "source": [
        "df"
      ]
    },
    {
      "cell_type": "code",
      "execution_count": null,
      "metadata": {
        "id": "H9z-Ns_RyVIQ"
      },
      "outputs": [],
      "source": [
        "from scipy.stats import norm"
      ]
    },
    {
      "cell_type": "code",
      "execution_count": null,
      "metadata": {
        "id": "ck9gdGeNyVIR",
        "outputId": "4108d4e6-bc14-4c0b-8016-1e24b7ff447e"
      },
      "outputs": [
        {
          "data": {
            "text/plain": [
              "(0.3280566451599556, 0.3067730689596443)"
            ]
          },
          "execution_count": 39,
          "metadata": {},
          "output_type": "execute_result"
        }
      ],
      "source": [
        "norm.fit(ou_process[11])"
      ]
    },
    {
      "cell_type": "code",
      "execution_count": 12,
      "metadata": {
        "id": "sf90Qy_3yVIR"
      },
      "outputs": [],
      "source": [
        "data=df.T.to_numpy()"
      ]
    },
    {
      "cell_type": "code",
      "execution_count": 13,
      "metadata": {
        "colab": {
          "base_uri": "https://localhost:8080/"
        },
        "id": "UCMB74c6yVIR",
        "outputId": "30d37834-b9d7-4c54-c879-dca45b70e7f3"
      },
      "outputs": [
        {
          "output_type": "execute_result",
          "data": {
            "text/plain": [
              "array([[ 0.        ,  0.0305    ,  0.0609695 ,  0.09140853,  0.12181712,\n",
              "         0.1521953 ,  0.18254311,  0.16021904],\n",
              "       [ 0.        ,  0.0305    ,  0.0609695 ,  0.09140853,  0.12181712,\n",
              "         0.1521953 ,  0.18254311, -0.44465029],\n",
              "       [ 0.        ,  0.0305    ,  0.0609695 ,  0.09140853,  0.12181712,\n",
              "         0.1521953 ,  0.18254311,  0.66667084],\n",
              "       [ 0.        ,  0.0305    ,  0.0609695 ,  0.09140853,  0.12181712,\n",
              "         0.1521953 ,  0.18254311,  0.61536422],\n",
              "       [ 0.        ,  0.0305    ,  0.0609695 ,  0.09140853,  0.12181712,\n",
              "         0.1521953 ,  0.18254311,  0.41274062],\n",
              "       [ 0.        ,  0.0305    ,  0.0609695 ,  0.09140853,  0.12181712,\n",
              "         0.1521953 ,  0.18254311,  0.18514559],\n",
              "       [ 0.        ,  0.0305    ,  0.0609695 ,  0.09140853,  0.12181712,\n",
              "         0.1521953 ,  0.18254311, -0.04388565],\n",
              "       [ 0.        ,  0.0305    ,  0.0609695 ,  0.09140853,  0.12181712,\n",
              "         0.1521953 ,  0.18254311,  0.60015071],\n",
              "       [ 0.        ,  0.0305    ,  0.0609695 ,  0.09140853,  0.12181712,\n",
              "         0.1521953 ,  0.18254311,  0.81791   ],\n",
              "       [ 0.        ,  0.0305    ,  0.0609695 ,  0.09140853,  0.12181712,\n",
              "         0.1521953 ,  0.18254311,  0.48207893],\n",
              "       [ 0.        ,  0.0305    ,  0.0609695 ,  0.09140853,  0.12181712,\n",
              "         0.1521953 ,  0.18254311,  0.50183353],\n",
              "       [ 0.        ,  0.0305    ,  0.0609695 ,  0.09140853,  0.12181712,\n",
              "         0.1521953 ,  0.18254311,  0.52005138],\n",
              "       [ 0.        ,  0.0305    ,  0.0609695 ,  0.09140853,  0.12181712,\n",
              "         0.1521953 ,  0.18254311, -0.17073636],\n",
              "       [ 0.        ,  0.0305    ,  0.0609695 ,  0.09140853,  0.12181712,\n",
              "         0.1521953 ,  0.18254311,  0.06271749],\n",
              "       [ 0.        ,  0.0305    ,  0.0609695 ,  0.09140853,  0.12181712,\n",
              "         0.1521953 ,  0.18254311,  0.2923596 ],\n",
              "       [ 0.        ,  0.0305    ,  0.0609695 ,  0.09140853,  0.12181712,\n",
              "         0.1521953 ,  0.18254311,  0.07752561],\n",
              "       [ 0.        ,  0.0305    ,  0.0609695 ,  0.09140853,  0.12181712,\n",
              "         0.1521953 ,  0.18254311,  0.32483481],\n",
              "       [ 0.        ,  0.0305    ,  0.0609695 ,  0.09140853,  0.12181712,\n",
              "         0.1521953 ,  0.18254311,  0.00388131],\n",
              "       [ 0.        ,  0.0305    ,  0.0609695 ,  0.09140853,  0.12181712,\n",
              "         0.1521953 ,  0.18254311,  0.63556125],\n",
              "       [ 0.        ,  0.0305    ,  0.0609695 ,  0.09140853,  0.12181712,\n",
              "         0.1521953 ,  0.18254311,  0.36454009],\n",
              "       [ 0.        ,  0.0305    ,  0.0609695 ,  0.09140853,  0.12181712,\n",
              "         0.1521953 ,  0.18254311,  0.03214849],\n",
              "       [ 0.        ,  0.0305    ,  0.0609695 ,  0.09140853,  0.12181712,\n",
              "         0.1521953 ,  0.18254311,  0.55033091],\n",
              "       [ 0.        ,  0.0305    ,  0.0609695 ,  0.09140853,  0.12181712,\n",
              "         0.1521953 ,  0.18254311,  0.65172744],\n",
              "       [ 0.        ,  0.0305    ,  0.0609695 ,  0.09140853,  0.12181712,\n",
              "         0.1521953 ,  0.18254311,  0.56933371],\n",
              "       [ 0.        ,  0.0305    ,  0.0609695 ,  0.09140853,  0.12181712,\n",
              "         0.1521953 ,  0.18254311,  0.59422315],\n",
              "       [ 0.        ,  0.0305    ,  0.0609695 ,  0.09140853,  0.12181712,\n",
              "         0.1521953 ,  0.18254311,  0.49011311],\n",
              "       [ 0.        ,  0.0305    ,  0.0609695 ,  0.09140853,  0.12181712,\n",
              "         0.1521953 ,  0.18254311,  0.40005418],\n",
              "       [ 0.        ,  0.0305    ,  0.0609695 ,  0.09140853,  0.12181712,\n",
              "         0.1521953 ,  0.18254311,  0.46444204],\n",
              "       [ 0.        ,  0.0305    ,  0.0609695 ,  0.09140853,  0.12181712,\n",
              "         0.1521953 ,  0.18254311,  0.20194056],\n",
              "       [ 0.        ,  0.0305    ,  0.0609695 ,  0.09140853,  0.12181712,\n",
              "         0.1521953 ,  0.18254311, -0.0569394 ],\n",
              "       [ 0.        ,  0.0305    ,  0.0609695 ,  0.09140853,  0.12181712,\n",
              "         0.1521953 ,  0.18254311, -0.13394603],\n",
              "       [ 0.        ,  0.0305    ,  0.0609695 ,  0.09140853,  0.12181712,\n",
              "         0.1521953 ,  0.18254311,  0.52220092],\n",
              "       [ 0.        ,  0.0305    ,  0.0609695 ,  0.09140853,  0.12181712,\n",
              "         0.1521953 ,  0.18254311,  0.21365005],\n",
              "       [ 0.        ,  0.0305    ,  0.0609695 ,  0.09140853,  0.12181712,\n",
              "         0.1521953 ,  0.18254311, -0.42220087],\n",
              "       [ 0.        ,  0.0305    ,  0.0609695 ,  0.09140853,  0.12181712,\n",
              "         0.1521953 ,  0.18254311,  0.20905692],\n",
              "       [ 0.        ,  0.0305    ,  0.0609695 ,  0.09140853,  0.12181712,\n",
              "         0.1521953 ,  0.18254311,  0.18728421],\n",
              "       [ 0.        ,  0.0305    ,  0.0609695 ,  0.09140853,  0.12181712,\n",
              "         0.1521953 ,  0.18254311,  0.5177258 ],\n",
              "       [ 0.        ,  0.0305    ,  0.0609695 ,  0.09140853,  0.12181712,\n",
              "         0.1521953 ,  0.18254311,  0.35353356],\n",
              "       [ 0.        ,  0.0305    ,  0.0609695 ,  0.09140853,  0.12181712,\n",
              "         0.1521953 ,  0.18254311,  0.01757305],\n",
              "       [ 0.        ,  0.0305    ,  0.0609695 ,  0.09140853,  0.12181712,\n",
              "         0.1521953 ,  0.18254311,  0.39990094],\n",
              "       [ 0.        ,  0.0305    ,  0.0609695 ,  0.09140853,  0.12181712,\n",
              "         0.1521953 ,  0.18254311,  0.18100041],\n",
              "       [ 0.        ,  0.0305    ,  0.0609695 ,  0.09140853,  0.12181712,\n",
              "         0.1521953 ,  0.18254311,  0.38998153],\n",
              "       [ 0.        ,  0.0305    ,  0.0609695 ,  0.09140853,  0.12181712,\n",
              "         0.1521953 ,  0.18254311,  0.38400703],\n",
              "       [ 0.        ,  0.0305    ,  0.0609695 ,  0.09140853,  0.12181712,\n",
              "         0.1521953 ,  0.18254311,  0.32048091],\n",
              "       [ 0.        ,  0.0305    ,  0.0609695 ,  0.09140853,  0.12181712,\n",
              "         0.1521953 ,  0.18254311,  0.53954972]])"
            ]
          },
          "metadata": {},
          "execution_count": 13
        }
      ],
      "source": [
        "data"
      ]
    },
    {
      "cell_type": "code",
      "execution_count": 14,
      "metadata": {
        "id": "wbhc95R_yVIS"
      },
      "outputs": [],
      "source": [
        "data=data.reshape(45,8,1)"
      ]
    },
    {
      "cell_type": "code",
      "execution_count": 15,
      "metadata": {
        "id": "__qzuWEmyVIS"
      },
      "outputs": [],
      "source": [
        "train_set_X=data[:43]\n",
        "test_set_X=data[43:44]\n",
        "val_set_X=data[44:45]"
      ]
    },
    {
      "cell_type": "code",
      "execution_count": 16,
      "metadata": {
        "id": "8l9upuy7yVIS"
      },
      "outputs": [],
      "source": [
        "train_set_dict = add_artificial_mask(\n",
        "        train_set_X, 0.1, \"train\"\n",
        "    )\n",
        "val_set_dict = add_artificial_mask(val_set_X, 0.1, \"val\")\n",
        "test_set_dict = add_artificial_mask(\n",
        "        test_set_X, 0.1, \"test\"\n",
        "    )"
      ]
    },
    {
      "cell_type": "code",
      "execution_count": 17,
      "metadata": {
        "id": "-uX1pHiuyVIS"
      },
      "outputs": [],
      "source": [
        "processed_data = {\n",
        "        \"train\": train_set_dict,\n",
        "        \"val\":val_set_dict,\n",
        "        \"test\": test_set_dict,\n",
        "    }"
      ]
    },
    {
      "cell_type": "code",
      "execution_count": 18,
      "metadata": {
        "id": "O_ox06M0yVIT"
      },
      "outputs": [],
      "source": [
        "saving_dir='/content/sample_data'"
      ]
    },
    {
      "cell_type": "code",
      "execution_count": 19,
      "metadata": {
        "id": "xvlgpr3ayVIT"
      },
      "outputs": [],
      "source": [
        "saving_into_h5(saving_dir, processed_data, classification_dataset=False)"
      ]
    },
    {
      "cell_type": "code",
      "execution_count": 20,
      "metadata": {
        "id": "-RpGzV09yVIT"
      },
      "outputs": [],
      "source": [
        "from configparser import ConfigParser, ExtendedInterpolation"
      ]
    },
    {
      "cell_type": "code",
      "execution_count": 21,
      "metadata": {
        "id": "NAAiFBLwyVIT"
      },
      "outputs": [],
      "source": [
        "cfg = ConfigParser(interpolation=ExtendedInterpolation())"
      ]
    },
    {
      "cell_type": "code",
      "execution_count": 22,
      "metadata": {
        "id": "M-eDmUekyVIU"
      },
      "outputs": [],
      "source": [
        "def read_arguments(arg_parser, cfg_parser):\n",
        "    # file path\n",
        "    arg_parser.dataset_base_dir = cfg_parser.get(\"file_path\", \"dataset_base_dir\")\n",
        "\n",
        "    # dataset info\n",
        "    arg_parser.seq_len = cfg_parser.getint(\"dataset\", \"seq_len\")\n",
        "    arg_parser.batch_size = cfg_parser.getint(\"dataset\", \"batch_size\")\n",
        "    arg_parser.num_workers = cfg_parser.getint(\"dataset\", \"num_workers\")\n",
        "    arg_parser.feature_num = cfg_parser.getint(\"dataset\", \"feature_num\")\n",
        "    arg_parser.dataset_name = cfg_parser.get(\"dataset\", \"dataset_name\")\n",
        "    arg_parser.dataset_path = os.path.join(\n",
        "        arg_parser.dataset_base_dir, arg_parser.dataset_name\n",
        "    )\n",
        "    arg_parser.eval_every_n_steps = cfg_parser.getint(\"dataset\", \"eval_every_n_steps\")\n",
        "    # training settings\n",
        "    arg_parser.MIT = cfg_parser.getboolean(\"training\", \"MIT\")\n",
        "    arg_parser.ORT = cfg_parser.getboolean(\"training\", \"ORT\")\n",
        "    arg_parser.lr = cfg_parser.getfloat(\"training\", \"lr\")\n",
        "    arg_parser.optimizer_type = cfg_parser.get(\"training\", \"optimizer_type\")\n",
        "    arg_parser.weight_decay = cfg_parser.getfloat(\"training\", \"weight_decay\")\n",
        "    arg_parser.device = cfg_parser.get(\"training\", \"device\")\n",
        "    arg_parser.epochs = cfg_parser.getint(\"training\", \"epochs\")\n",
        "    arg_parser.early_stop_patience = cfg_parser.getint(\n",
        "        \"training\", \"early_stop_patience\"\n",
        "    )\n",
        "\n",
        "    arg_parser.max_norm = cfg_parser.getfloat(\"training\", \"max_norm\")\n",
        "    arg_parser.imputation_loss_weight = cfg_parser.getfloat(\n",
        "        \"training\", \"imputation_loss_weight\"\n",
        "    )\n",
        "    arg_parser.reconstruction_loss_weight = cfg_parser.getfloat(\n",
        "        \"training\", \"reconstruction_loss_weight\"\n",
        "    )\n",
        "    # model settings\n",
        "    arg_parser.model_name = cfg_parser.get(\"model\", \"model_name\")\n",
        "    arg_parser.model_type = cfg_parser.get(\"model\", \"model_type\")\n",
        "    return arg_parser"
      ]
    },
    {
      "cell_type": "code",
      "execution_count": 24,
      "metadata": {
        "colab": {
          "base_uri": "https://localhost:8080/"
        },
        "id": "R9Rttb_OyVIU",
        "outputId": "5ad62414-ec7e-4d8f-b3bb-3e62f2e66a6e"
      },
      "outputs": [
        {
          "output_type": "execute_result",
          "data": {
            "text/plain": [
              "_StoreAction(option_strings=['--config_path'], dest='config_path', nargs=None, const=None, default='/content/drive/MyDrive/saits/AirQuality_SAITS_best.ini', type=<class 'str'>, choices=None, required=False, help='path of config file', metavar=None)"
            ]
          },
          "metadata": {},
          "execution_count": 24
        }
      ],
      "source": [
        "\n",
        "parser = argparse.ArgumentParser()\n",
        "parser.add_argument(\"--config_path\", type=str, help=\"path of config file\",default=\"/content/drive/MyDrive/saits/AirQuality_SAITS_best.ini\")"
      ]
    },
    {
      "cell_type": "code",
      "execution_count": 25,
      "metadata": {
        "id": "oTVT1Zt3yVIU"
      },
      "outputs": [],
      "source": [
        "args,unknown = parser.parse_known_args()"
      ]
    },
    {
      "cell_type": "code",
      "execution_count": 26,
      "metadata": {
        "colab": {
          "base_uri": "https://localhost:8080/"
        },
        "id": "cS7vEDStyVIV",
        "outputId": "9388d80c-7454-4ef6-d2d3-370a001a8a19"
      },
      "outputs": [
        {
          "output_type": "execute_result",
          "data": {
            "text/plain": [
              "Namespace(config_path='/content/drive/MyDrive/saits/AirQuality_SAITS_best.ini')"
            ]
          },
          "metadata": {},
          "execution_count": 26
        }
      ],
      "source": [
        "args"
      ]
    },
    {
      "cell_type": "code",
      "execution_count": 27,
      "metadata": {
        "colab": {
          "base_uri": "https://localhost:8080/"
        },
        "id": "ydhzot44yVIV",
        "outputId": "7de5d4d9-3b01-46a6-8e4f-a018654c7b41"
      },
      "outputs": [
        {
          "output_type": "execute_result",
          "data": {
            "text/plain": [
              "['/content/drive/MyDrive/saits/AirQuality_SAITS_best.ini']"
            ]
          },
          "metadata": {},
          "execution_count": 27
        }
      ],
      "source": [
        "cfg.read(args.config_path)"
      ]
    },
    {
      "cell_type": "code",
      "execution_count": 28,
      "metadata": {
        "id": "IKr1NQbtyVIW"
      },
      "outputs": [],
      "source": [
        "args = read_arguments(args, cfg)"
      ]
    },
    {
      "cell_type": "code",
      "execution_count": 29,
      "metadata": {
        "colab": {
          "base_uri": "https://localhost:8080/"
        },
        "id": "5F7KXf-PyVIX",
        "outputId": "2ab0a079-0dfb-44f3-db24-0232c93f07d8"
      },
      "outputs": [
        {
          "output_type": "execute_result",
          "data": {
            "text/plain": [
              "Namespace(config_path='/content/drive/MyDrive/saits/AirQuality_SAITS_best.ini', dataset_base_dir='generated_datasets', seq_len=8, batch_size=100, num_workers=4, feature_num=1, dataset_name='AirQuality_seqlen24_01masked', dataset_path='generated_datasets/AirQuality_seqlen24_01masked', eval_every_n_steps=7, MIT=True, ORT=True, lr=0.0008821387950693266, optimizer_type='adam', weight_decay=0.0, device='cuda', epochs=10000, early_stop_patience=30, max_norm=0.0, imputation_loss_weight=1.0, reconstruction_loss_weight=1.0, model_name='AirQuality_SAITS_best', model_type='SAITS')"
            ]
          },
          "metadata": {},
          "execution_count": 29
        }
      ],
      "source": [
        "args"
      ]
    },
    {
      "cell_type": "code",
      "execution_count": 30,
      "metadata": {
        "id": "I2EFxjotyVIY"
      },
      "outputs": [],
      "source": [
        "if args.model_type in [\"Transformer\", \"SAITS\"]:  # if SA-based model\n",
        "        args.input_with_mask = cfg.getboolean(\"model\", \"input_with_mask\")\n",
        "        args.n_groups = cfg.getint(\"model\", \"n_groups\")\n",
        "        args.n_group_inner_layers = cfg.getint(\"model\", \"n_group_inner_layers\")\n",
        "        args.param_sharing_strategy = cfg.get(\"model\", \"param_sharing_strategy\")\n",
        "        assert args.param_sharing_strategy in [\n",
        "            \"inner_group\",\n",
        "            \"between_group\",\n",
        "        ], 'only \"inner_group\"/\"between_group\" sharing'\n",
        "        args.d_model = cfg.getint(\"model\", \"d_model\")\n",
        "        args.d_inner = cfg.getint(\"model\", \"d_inner\")\n",
        "        args.n_head = cfg.getint(\"model\", \"n_head\")\n",
        "        args.d_k = cfg.getint(\"model\", \"d_k\")\n",
        "        args.d_v = cfg.getint(\"model\", \"d_v\")\n",
        "        args.dropout = cfg.getfloat(\"model\", \"dropout\")\n",
        "        args.diagonal_attention_mask = cfg.getboolean(\n",
        "            \"model\", \"diagonal_attention_mask\"\n",
        "        )"
      ]
    },
    {
      "cell_type": "code",
      "execution_count": 31,
      "metadata": {
        "id": "BgkGFn8GyVIY"
      },
      "outputs": [],
      "source": [
        "dict_args = vars(args)"
      ]
    },
    {
      "cell_type": "code",
      "execution_count": 32,
      "metadata": {
        "id": "CvIP0-uUyVIZ"
      },
      "outputs": [],
      "source": [
        "model_args = {\n",
        "            \"device\":'cpu',\n",
        "            \"MIT\": args.MIT,\n",
        "            # imputer args\n",
        "            \"n_groups\": dict_args[\"n_groups\"],\n",
        "            \"n_group_inner_layers\": args.n_group_inner_layers,\n",
        "            \"d_time\": args.seq_len,\n",
        "            \"d_feature\": args.feature_num,\n",
        "            \"dropout\": dict_args[\"dropout\"],\n",
        "            \"d_model\": dict_args[\"d_model\"],\n",
        "            \"d_inner\": dict_args[\"d_inner\"],\n",
        "            \"n_head\": dict_args[\"n_head\"],\n",
        "            \"d_k\": dict_args[\"d_k\"],\n",
        "            \"d_v\": dict_args[\"d_v\"],\n",
        "            \"input_with_mask\": args.input_with_mask,\n",
        "            \"diagonal_attention_mask\": args.diagonal_attention_mask,\n",
        "            \"param_sharing_strategy\": args.param_sharing_strategy,\n",
        "        }"
      ]
    },
    {
      "cell_type": "code",
      "execution_count": 33,
      "metadata": {
        "id": "BIBiPxK6yVIZ"
      },
      "outputs": [],
      "source": [
        "time_now = datetime.now().__format__(\"%Y-%m-%d_T%H:%M:%S\")"
      ]
    },
    {
      "cell_type": "code",
      "execution_count": 34,
      "metadata": {
        "id": "NW5SULuDyVIZ"
      },
      "outputs": [],
      "source": [
        "unified_dataloader = UnifiedDataLoader(\n",
        "        saving_dir,\n",
        "        args.seq_len,\n",
        "        1,\n",
        "        args.model_type,\n",
        "        args.batch_size,\n",
        "        args.num_workers,\n",
        "        args.MIT,\n",
        "    )"
      ]
    },
    {
      "cell_type": "code",
      "execution_count": 35,
      "metadata": {
        "colab": {
          "base_uri": "https://localhost:8080/"
        },
        "id": "mr2-yAyiyVIa",
        "outputId": "f792bfa7-83c5-4582-8da1-b0490b5fc660"
      },
      "outputs": [
        {
          "output_type": "stream",
          "name": "stderr",
          "text": [
            "/usr/local/lib/python3.10/dist-packages/torch/utils/data/dataloader.py:558: UserWarning: This DataLoader will create 4 worker processes in total. Our suggested max number of worker in current system is 2, which is smaller than what this DataLoader is going to create. Please be aware that excessive worker creation might get DataLoader running slow or even freeze, lower the worker number to avoid potential slowness/freeze if necessary.\n",
            "  warnings.warn(_create_warning_msg(\n"
          ]
        }
      ],
      "source": [
        "train_dataloader,val_dataloader= unified_dataloader.get_train_val_dataloader()"
      ]
    },
    {
      "cell_type": "code",
      "execution_count": 36,
      "metadata": {
        "colab": {
          "base_uri": "https://localhost:8080/"
        },
        "id": "0w4xYU49yVIa",
        "outputId": "9edf7933-c6c4-483c-e506-bf05333f5f17"
      },
      "outputs": [
        {
          "output_type": "execute_result",
          "data": {
            "text/plain": [
              "<torch.utils.data.dataloader.DataLoader at 0x78ad0bb1fc40>"
            ]
          },
          "metadata": {},
          "execution_count": 36
        }
      ],
      "source": [
        "train_dataloader"
      ]
    },
    {
      "cell_type": "code",
      "execution_count": 90,
      "metadata": {
        "id": "3trCsoqTyVIb"
      },
      "outputs": [],
      "source": [
        "model = MODEL_DICT[args.model_type](**model_args)\n",
        "OPTIMIZER = {\"adam\": torch.optim.Adam, \"adamw\": torch.optim.AdamW}"
      ]
    },
    {
      "cell_type": "code",
      "execution_count": 91,
      "metadata": {
        "id": "ZNPo4YkPyVIc"
      },
      "outputs": [],
      "source": [
        "indices, X, missing_mask, X_holdout, indicating_mask = map(\n",
        "                    lambda x: x.to(args.device),next(iter(train_dataloader))\n",
        "                )"
      ]
    },
    {
      "cell_type": "code",
      "execution_count": 82,
      "metadata": {
        "id": "9ddag95SyVId"
      },
      "outputs": [],
      "source": [
        "inputs = {\n",
        "                    \"indices\": indices,\n",
        "                    \"X\": X,\n",
        "                    \"missing_mask\": missing_mask,\n",
        "                    \"X_holdout\": X_holdout,\n",
        "                    \"indicating_mask\": indicating_mask,\n",
        "                }"
      ]
    },
    {
      "cell_type": "code",
      "execution_count": 81,
      "metadata": {
        "id": "LYD317OqyVId"
      },
      "outputs": [],
      "source": [
        "def result_processing(results):\n",
        "    \"\"\"process results and losses for each training step\"\"\"\n",
        "    results[\"total_loss\"] = torch.tensor(0.0, device=args.device)\n",
        "    if args.MIT:\n",
        "        results[\"total_loss\"] += results[\"reconstruction_loss\"]\n",
        "    return results"
      ]
    },
    {
      "cell_type": "code",
      "execution_count": 83,
      "metadata": {
        "id": "7hyDyin1yVId"
      },
      "outputs": [],
      "source": [
        "def process_each_training_step(\n",
        "    results, optimizer\n",
        "):\n",
        "    \"\"\"process each training step and return whether to early stop\"\"\"\n",
        "\n",
        "    # apply gradient clipping if args.max_norm != 0\n",
        "    if args.max_norm != 0:\n",
        "        nn.utils.clip_grad_norm_(model.parameters(), max_norm=args.max_norm)\n",
        "    results[\"total_loss\"].backward()\n",
        "    optimizer.step()\n",
        "    return False"
      ]
    },
    {
      "cell_type": "code",
      "execution_count": 84,
      "metadata": {
        "id": "ecEIkLEgyVId"
      },
      "outputs": [],
      "source": [
        "def model_processing(\n",
        "    data,\n",
        "    model,\n",
        "    stage,\n",
        "    # following arguments are only required in the training stage\n",
        "    optimizer=None,\n",
        "    val_dataloader=None,\n",
        "\n",
        "    training_controller=None,\n",
        "    logger=None,\n",
        "):\n",
        "    if stage == \"train\":\n",
        "        optimizer.zero_grad()\n",
        "        if not args.MIT:\n",
        "              # then for self-attention based models, i.e. Transformer/SAITS\n",
        "                indices, X, missing_mask = map(lambda x: x.to(args.device), data)\n",
        "                inputs = {\"indices\": indices, \"X\": X, \"missing_mask\": missing_mask}\n",
        "                results = result_processing(model(inputs, stage))\n",
        "                early_stopping = process_each_training_step(\n",
        "                results,\n",
        "                optimizer,\n",
        "                val_dataloader,\n",
        "                training_controller,\n",
        "\n",
        "            )\n",
        "        else:\n",
        "\n",
        "\n",
        "                indices, X, missing_mask, X_holdout, indicating_mask = map(\n",
        "                    lambda x: x.to(args.device), data\n",
        "                    )\n",
        "\n",
        "                inputs = {\"indices\": indices, \"X\": X, \"missing_mask\": missing_mask,\"X_holdout\":X_holdout,\"indicating_mask\":indicating_mask,\"idx\":7}\n",
        "\n",
        "                results = result_processing(model(inputs, stage))\n",
        "\n",
        "                early_stopping = process_each_training_step(\n",
        "                    results,\n",
        "                    optimizer\n",
        "                    )\n",
        "        return early_stopping\n",
        "    return inputs, results\n",
        "\n",
        "\n"
      ]
    },
    {
      "cell_type": "code",
      "execution_count": 94,
      "metadata": {
        "id": "O8ebx1ThyVIe"
      },
      "outputs": [],
      "source": [
        "def train(\n",
        "    model,\n",
        "    optimizer,\n",
        "    train_dataloader\n",
        "):\n",
        "    for epoch in range(2000):\n",
        "        early_stopping = False\n",
        "        args.final_epoch = True if epoch == args.epochs - 1 else False\n",
        "        for idx, data in enumerate(train_dataloader):\n",
        "            model.train()\n",
        "            early_stopping = model_processing(\n",
        "                data,\n",
        "                model,\n",
        "                \"train\",\n",
        "                optimizer\n",
        "            )"
      ]
    },
    {
      "cell_type": "code",
      "execution_count": 92,
      "metadata": {
        "colab": {
          "base_uri": "https://localhost:8080/"
        },
        "id": "xLjqQJgMyVIe",
        "outputId": "fc0d77d4-f0ef-4451-8702-78cdb63a6ec9"
      },
      "outputs": [
        {
          "output_type": "execute_result",
          "data": {
            "text/plain": [
              "SAITS(\n",
              "  (layer_stack_for_first_block): ModuleList(\n",
              "    (0): EncoderLayer(\n",
              "      (layer_norm): LayerNorm((32,), eps=1e-05, elementwise_affine=True)\n",
              "      (slf_attn): MultiHeadAttention(\n",
              "        (w_qs): Linear(in_features=32, out_features=512, bias=False)\n",
              "        (w_ks): Linear(in_features=32, out_features=512, bias=False)\n",
              "        (w_vs): Linear(in_features=32, out_features=256, bias=False)\n",
              "        (attention): ScaledDotProductAttention(\n",
              "          (dropout): Dropout(p=0, inplace=False)\n",
              "        )\n",
              "        (fc): Linear(in_features=256, out_features=32, bias=False)\n",
              "      )\n",
              "      (dropout): Dropout(p=0.0, inplace=False)\n",
              "      (pos_ffn): PositionWiseFeedForward(\n",
              "        (w_1): Linear(in_features=32, out_features=32, bias=True)\n",
              "        (w_2): Linear(in_features=32, out_features=32, bias=True)\n",
              "        (layer_norm): LayerNorm((32,), eps=1e-06, elementwise_affine=True)\n",
              "        (dropout): Dropout(p=0.0, inplace=False)\n",
              "      )\n",
              "    )\n",
              "  )\n",
              "  (dropout): Dropout(p=0.0, inplace=False)\n",
              "  (position_enc): PositionalEncoding()\n",
              "  (embedding_1): Linear(in_features=2, out_features=32, bias=True)\n",
              "  (reduce_dim_z): Linear(in_features=256, out_features=2, bias=True)\n",
              ")"
            ]
          },
          "metadata": {},
          "execution_count": 92
        }
      ],
      "source": [
        "model.to(args.device)"
      ]
    },
    {
      "cell_type": "code",
      "execution_count": 87,
      "metadata": {
        "id": "zjPFk2wfyVIe"
      },
      "outputs": [],
      "source": [
        "optimizer = OPTIMIZER[args.optimizer_type](\n",
        "            model.parameters(), lr=dict_args[\"lr\"], weight_decay=args.weight_decay\n",
        "        )"
      ]
    },
    {
      "cell_type": "code",
      "execution_count": 95,
      "metadata": {
        "colab": {
          "base_uri": "https://localhost:8080/",
          "height": 812
        },
        "id": "05ns0HwZyVIe",
        "outputId": "5bee0dde-7258-45ae-dde4-0e7b688710e0"
      },
      "outputs": [
        {
          "output_type": "stream",
          "name": "stderr",
          "text": [
            "Exception ignored in: <function _after_fork at 0x78ad24641c60>\n",
            "Traceback (most recent call last):\n",
            "Exception ignored in:   File \"/usr/lib/python3.10/threading.py\", line 1622, in _after_fork\n",
            "    threads.update(_dangling)\n",
            "  File \"/usr/lib/python3.10/_weakrefset.py\", line 66, in __iter__\n",
            "Exception ignored in: <function _after_fork at 0x78ad24641c60>Exception ignored in: \n",
            "<function _after_fork at 0x78ad24641c60><function _after_fork at 0x78ad24641c60>Traceback (most recent call last):\n",
            "\n",
            "\n",
            "  File \"/usr/lib/python3.10/threading.py\", line 1635, in _after_fork\n",
            "    Traceback (most recent call last):\n",
            "  File \"/usr/lib/python3.10/threading.py\", line 1635, in _after_fork\n",
            "Traceback (most recent call last):\n",
            "    thread._reset_internal_locks(False)    item = itemref()\n",
            "\n",
            "  File \"/usr/lib/python3.10/threading.py\", line 1622, in _after_fork\n",
            "thread._reset_internal_locks(False)  File \"/usr/lib/python3.10/threading.py\", line 885, in _reset_internal_locks\n",
            "KeyboardInterrupt\n",
            "        KeyboardInterrupt: : threads.update(_dangling)\n",
            "\n",
            "\n",
            "def _reset_internal_locks(self, is_alive):\n",
            "KeyboardInterrupt  File \"/usr/lib/python3.10/_weakrefset.py\", line 66, in __iter__\n",
            ": \n",
            "    item = itemref()\n",
            "KeyboardInterrupt: \n"
          ]
        },
        {
          "output_type": "error",
          "ename": "KeyboardInterrupt",
          "evalue": "",
          "traceback": [
            "\u001b[0;31m---------------------------------------------------------------------------\u001b[0m",
            "\u001b[0;31mKeyboardInterrupt\u001b[0m                         Traceback (most recent call last)",
            "\u001b[0;32m<ipython-input-95-6e8c64aa3b18>\u001b[0m in \u001b[0;36m<cell line: 1>\u001b[0;34m()\u001b[0m\n\u001b[0;32m----> 1\u001b[0;31m train(\n\u001b[0m\u001b[1;32m      2\u001b[0m             \u001b[0mmodel\u001b[0m\u001b[0;34m,\u001b[0m\u001b[0;34m\u001b[0m\u001b[0;34m\u001b[0m\u001b[0m\n\u001b[1;32m      3\u001b[0m             \u001b[0moptimizer\u001b[0m\u001b[0;34m,\u001b[0m\u001b[0;34m\u001b[0m\u001b[0;34m\u001b[0m\u001b[0m\n\u001b[1;32m      4\u001b[0m             \u001b[0mtrain_dataloader\u001b[0m\u001b[0;34m\u001b[0m\u001b[0;34m\u001b[0m\u001b[0m\n\u001b[1;32m      5\u001b[0m         )\n",
            "\u001b[0;32m<ipython-input-94-8521d63c1c16>\u001b[0m in \u001b[0;36mtrain\u001b[0;34m(model, optimizer, train_dataloader)\u001b[0m\n\u001b[1;32m      7\u001b[0m         \u001b[0mearly_stopping\u001b[0m \u001b[0;34m=\u001b[0m \u001b[0;32mFalse\u001b[0m\u001b[0;34m\u001b[0m\u001b[0;34m\u001b[0m\u001b[0m\n\u001b[1;32m      8\u001b[0m         \u001b[0margs\u001b[0m\u001b[0;34m.\u001b[0m\u001b[0mfinal_epoch\u001b[0m \u001b[0;34m=\u001b[0m \u001b[0;32mTrue\u001b[0m \u001b[0;32mif\u001b[0m \u001b[0mepoch\u001b[0m \u001b[0;34m==\u001b[0m \u001b[0margs\u001b[0m\u001b[0;34m.\u001b[0m\u001b[0mepochs\u001b[0m \u001b[0;34m-\u001b[0m \u001b[0;36m1\u001b[0m \u001b[0;32melse\u001b[0m \u001b[0;32mFalse\u001b[0m\u001b[0;34m\u001b[0m\u001b[0;34m\u001b[0m\u001b[0m\n\u001b[0;32m----> 9\u001b[0;31m         \u001b[0;32mfor\u001b[0m \u001b[0midx\u001b[0m\u001b[0;34m,\u001b[0m \u001b[0mdata\u001b[0m \u001b[0;32min\u001b[0m \u001b[0menumerate\u001b[0m\u001b[0;34m(\u001b[0m\u001b[0mtrain_dataloader\u001b[0m\u001b[0;34m)\u001b[0m\u001b[0;34m:\u001b[0m\u001b[0;34m\u001b[0m\u001b[0;34m\u001b[0m\u001b[0m\n\u001b[0m\u001b[1;32m     10\u001b[0m             \u001b[0mmodel\u001b[0m\u001b[0;34m.\u001b[0m\u001b[0mtrain\u001b[0m\u001b[0;34m(\u001b[0m\u001b[0;34m)\u001b[0m\u001b[0;34m\u001b[0m\u001b[0;34m\u001b[0m\u001b[0m\n\u001b[1;32m     11\u001b[0m             early_stopping = model_processing(\n",
            "\u001b[0;32m/usr/local/lib/python3.10/dist-packages/torch/utils/data/dataloader.py\u001b[0m in \u001b[0;36m__next__\u001b[0;34m(self)\u001b[0m\n\u001b[1;32m    629\u001b[0m                 \u001b[0;31m# TODO(https://github.com/pytorch/pytorch/issues/76750)\u001b[0m\u001b[0;34m\u001b[0m\u001b[0;34m\u001b[0m\u001b[0m\n\u001b[1;32m    630\u001b[0m                 \u001b[0mself\u001b[0m\u001b[0;34m.\u001b[0m\u001b[0m_reset\u001b[0m\u001b[0;34m(\u001b[0m\u001b[0;34m)\u001b[0m  \u001b[0;31m# type: ignore[call-arg]\u001b[0m\u001b[0;34m\u001b[0m\u001b[0;34m\u001b[0m\u001b[0m\n\u001b[0;32m--> 631\u001b[0;31m             \u001b[0mdata\u001b[0m \u001b[0;34m=\u001b[0m \u001b[0mself\u001b[0m\u001b[0;34m.\u001b[0m\u001b[0m_next_data\u001b[0m\u001b[0;34m(\u001b[0m\u001b[0;34m)\u001b[0m\u001b[0;34m\u001b[0m\u001b[0;34m\u001b[0m\u001b[0m\n\u001b[0m\u001b[1;32m    632\u001b[0m             \u001b[0mself\u001b[0m\u001b[0;34m.\u001b[0m\u001b[0m_num_yielded\u001b[0m \u001b[0;34m+=\u001b[0m \u001b[0;36m1\u001b[0m\u001b[0;34m\u001b[0m\u001b[0;34m\u001b[0m\u001b[0m\n\u001b[1;32m    633\u001b[0m             \u001b[0;32mif\u001b[0m \u001b[0mself\u001b[0m\u001b[0;34m.\u001b[0m\u001b[0m_dataset_kind\u001b[0m \u001b[0;34m==\u001b[0m \u001b[0m_DatasetKind\u001b[0m\u001b[0;34m.\u001b[0m\u001b[0mIterable\u001b[0m \u001b[0;32mand\u001b[0m\u001b[0;31m \u001b[0m\u001b[0;31m\\\u001b[0m\u001b[0;34m\u001b[0m\u001b[0;34m\u001b[0m\u001b[0m\n",
            "\u001b[0;32m/usr/local/lib/python3.10/dist-packages/torch/utils/data/dataloader.py\u001b[0m in \u001b[0;36m_next_data\u001b[0;34m(self)\u001b[0m\n\u001b[1;32m   1327\u001b[0m \u001b[0;34m\u001b[0m\u001b[0m\n\u001b[1;32m   1328\u001b[0m             \u001b[0;32massert\u001b[0m \u001b[0;32mnot\u001b[0m \u001b[0mself\u001b[0m\u001b[0;34m.\u001b[0m\u001b[0m_shutdown\u001b[0m \u001b[0;32mand\u001b[0m \u001b[0mself\u001b[0m\u001b[0;34m.\u001b[0m\u001b[0m_tasks_outstanding\u001b[0m \u001b[0;34m>\u001b[0m \u001b[0;36m0\u001b[0m\u001b[0;34m\u001b[0m\u001b[0;34m\u001b[0m\u001b[0m\n\u001b[0;32m-> 1329\u001b[0;31m             \u001b[0midx\u001b[0m\u001b[0;34m,\u001b[0m \u001b[0mdata\u001b[0m \u001b[0;34m=\u001b[0m \u001b[0mself\u001b[0m\u001b[0;34m.\u001b[0m\u001b[0m_get_data\u001b[0m\u001b[0;34m(\u001b[0m\u001b[0;34m)\u001b[0m\u001b[0;34m\u001b[0m\u001b[0;34m\u001b[0m\u001b[0m\n\u001b[0m\u001b[1;32m   1330\u001b[0m             \u001b[0mself\u001b[0m\u001b[0;34m.\u001b[0m\u001b[0m_tasks_outstanding\u001b[0m \u001b[0;34m-=\u001b[0m \u001b[0;36m1\u001b[0m\u001b[0;34m\u001b[0m\u001b[0;34m\u001b[0m\u001b[0m\n\u001b[1;32m   1331\u001b[0m             \u001b[0;32mif\u001b[0m \u001b[0mself\u001b[0m\u001b[0;34m.\u001b[0m\u001b[0m_dataset_kind\u001b[0m \u001b[0;34m==\u001b[0m \u001b[0m_DatasetKind\u001b[0m\u001b[0;34m.\u001b[0m\u001b[0mIterable\u001b[0m\u001b[0;34m:\u001b[0m\u001b[0;34m\u001b[0m\u001b[0;34m\u001b[0m\u001b[0m\n",
            "\u001b[0;32m/usr/local/lib/python3.10/dist-packages/torch/utils/data/dataloader.py\u001b[0m in \u001b[0;36m_get_data\u001b[0;34m(self)\u001b[0m\n\u001b[1;32m   1293\u001b[0m         \u001b[0;32melse\u001b[0m\u001b[0;34m:\u001b[0m\u001b[0;34m\u001b[0m\u001b[0;34m\u001b[0m\u001b[0m\n\u001b[1;32m   1294\u001b[0m             \u001b[0;32mwhile\u001b[0m \u001b[0;32mTrue\u001b[0m\u001b[0;34m:\u001b[0m\u001b[0;34m\u001b[0m\u001b[0;34m\u001b[0m\u001b[0m\n\u001b[0;32m-> 1295\u001b[0;31m                 \u001b[0msuccess\u001b[0m\u001b[0;34m,\u001b[0m \u001b[0mdata\u001b[0m \u001b[0;34m=\u001b[0m \u001b[0mself\u001b[0m\u001b[0;34m.\u001b[0m\u001b[0m_try_get_data\u001b[0m\u001b[0;34m(\u001b[0m\u001b[0;34m)\u001b[0m\u001b[0;34m\u001b[0m\u001b[0;34m\u001b[0m\u001b[0m\n\u001b[0m\u001b[1;32m   1296\u001b[0m                 \u001b[0;32mif\u001b[0m \u001b[0msuccess\u001b[0m\u001b[0;34m:\u001b[0m\u001b[0;34m\u001b[0m\u001b[0;34m\u001b[0m\u001b[0m\n\u001b[1;32m   1297\u001b[0m                     \u001b[0;32mreturn\u001b[0m \u001b[0mdata\u001b[0m\u001b[0;34m\u001b[0m\u001b[0;34m\u001b[0m\u001b[0m\n",
            "\u001b[0;32m/usr/local/lib/python3.10/dist-packages/torch/utils/data/dataloader.py\u001b[0m in \u001b[0;36m_try_get_data\u001b[0;34m(self, timeout)\u001b[0m\n\u001b[1;32m   1131\u001b[0m         \u001b[0;31m#   (bool: whether successfully get data, any: data if successful else None)\u001b[0m\u001b[0;34m\u001b[0m\u001b[0;34m\u001b[0m\u001b[0m\n\u001b[1;32m   1132\u001b[0m         \u001b[0;32mtry\u001b[0m\u001b[0;34m:\u001b[0m\u001b[0;34m\u001b[0m\u001b[0;34m\u001b[0m\u001b[0m\n\u001b[0;32m-> 1133\u001b[0;31m             \u001b[0mdata\u001b[0m \u001b[0;34m=\u001b[0m \u001b[0mself\u001b[0m\u001b[0;34m.\u001b[0m\u001b[0m_data_queue\u001b[0m\u001b[0;34m.\u001b[0m\u001b[0mget\u001b[0m\u001b[0;34m(\u001b[0m\u001b[0mtimeout\u001b[0m\u001b[0;34m=\u001b[0m\u001b[0mtimeout\u001b[0m\u001b[0;34m)\u001b[0m\u001b[0;34m\u001b[0m\u001b[0;34m\u001b[0m\u001b[0m\n\u001b[0m\u001b[1;32m   1134\u001b[0m             \u001b[0;32mreturn\u001b[0m \u001b[0;34m(\u001b[0m\u001b[0;32mTrue\u001b[0m\u001b[0;34m,\u001b[0m \u001b[0mdata\u001b[0m\u001b[0;34m)\u001b[0m\u001b[0;34m\u001b[0m\u001b[0;34m\u001b[0m\u001b[0m\n\u001b[1;32m   1135\u001b[0m         \u001b[0;32mexcept\u001b[0m \u001b[0mException\u001b[0m \u001b[0;32mas\u001b[0m \u001b[0me\u001b[0m\u001b[0;34m:\u001b[0m\u001b[0;34m\u001b[0m\u001b[0;34m\u001b[0m\u001b[0m\n",
            "\u001b[0;32m/usr/lib/python3.10/multiprocessing/queues.py\u001b[0m in \u001b[0;36mget\u001b[0;34m(self, block, timeout)\u001b[0m\n\u001b[1;32m    111\u001b[0m                 \u001b[0;32mif\u001b[0m \u001b[0mblock\u001b[0m\u001b[0;34m:\u001b[0m\u001b[0;34m\u001b[0m\u001b[0;34m\u001b[0m\u001b[0m\n\u001b[1;32m    112\u001b[0m                     \u001b[0mtimeout\u001b[0m \u001b[0;34m=\u001b[0m \u001b[0mdeadline\u001b[0m \u001b[0;34m-\u001b[0m \u001b[0mtime\u001b[0m\u001b[0;34m.\u001b[0m\u001b[0mmonotonic\u001b[0m\u001b[0;34m(\u001b[0m\u001b[0;34m)\u001b[0m\u001b[0;34m\u001b[0m\u001b[0;34m\u001b[0m\u001b[0m\n\u001b[0;32m--> 113\u001b[0;31m                     \u001b[0;32mif\u001b[0m \u001b[0;32mnot\u001b[0m \u001b[0mself\u001b[0m\u001b[0;34m.\u001b[0m\u001b[0m_poll\u001b[0m\u001b[0;34m(\u001b[0m\u001b[0mtimeout\u001b[0m\u001b[0;34m)\u001b[0m\u001b[0;34m:\u001b[0m\u001b[0;34m\u001b[0m\u001b[0;34m\u001b[0m\u001b[0m\n\u001b[0m\u001b[1;32m    114\u001b[0m                         \u001b[0;32mraise\u001b[0m \u001b[0mEmpty\u001b[0m\u001b[0;34m\u001b[0m\u001b[0;34m\u001b[0m\u001b[0m\n\u001b[1;32m    115\u001b[0m                 \u001b[0;32melif\u001b[0m \u001b[0;32mnot\u001b[0m \u001b[0mself\u001b[0m\u001b[0;34m.\u001b[0m\u001b[0m_poll\u001b[0m\u001b[0;34m(\u001b[0m\u001b[0;34m)\u001b[0m\u001b[0;34m:\u001b[0m\u001b[0;34m\u001b[0m\u001b[0;34m\u001b[0m\u001b[0m\n",
            "\u001b[0;32m/usr/lib/python3.10/multiprocessing/connection.py\u001b[0m in \u001b[0;36mpoll\u001b[0;34m(self, timeout)\u001b[0m\n\u001b[1;32m    255\u001b[0m         \u001b[0mself\u001b[0m\u001b[0;34m.\u001b[0m\u001b[0m_check_closed\u001b[0m\u001b[0;34m(\u001b[0m\u001b[0;34m)\u001b[0m\u001b[0;34m\u001b[0m\u001b[0;34m\u001b[0m\u001b[0m\n\u001b[1;32m    256\u001b[0m         \u001b[0mself\u001b[0m\u001b[0;34m.\u001b[0m\u001b[0m_check_readable\u001b[0m\u001b[0;34m(\u001b[0m\u001b[0;34m)\u001b[0m\u001b[0;34m\u001b[0m\u001b[0;34m\u001b[0m\u001b[0m\n\u001b[0;32m--> 257\u001b[0;31m         \u001b[0;32mreturn\u001b[0m \u001b[0mself\u001b[0m\u001b[0;34m.\u001b[0m\u001b[0m_poll\u001b[0m\u001b[0;34m(\u001b[0m\u001b[0mtimeout\u001b[0m\u001b[0;34m)\u001b[0m\u001b[0;34m\u001b[0m\u001b[0;34m\u001b[0m\u001b[0m\n\u001b[0m\u001b[1;32m    258\u001b[0m \u001b[0;34m\u001b[0m\u001b[0m\n\u001b[1;32m    259\u001b[0m     \u001b[0;32mdef\u001b[0m \u001b[0m__enter__\u001b[0m\u001b[0;34m(\u001b[0m\u001b[0mself\u001b[0m\u001b[0;34m)\u001b[0m\u001b[0;34m:\u001b[0m\u001b[0;34m\u001b[0m\u001b[0;34m\u001b[0m\u001b[0m\n",
            "\u001b[0;32m/usr/lib/python3.10/multiprocessing/connection.py\u001b[0m in \u001b[0;36m_poll\u001b[0;34m(self, timeout)\u001b[0m\n\u001b[1;32m    422\u001b[0m \u001b[0;34m\u001b[0m\u001b[0m\n\u001b[1;32m    423\u001b[0m     \u001b[0;32mdef\u001b[0m \u001b[0m_poll\u001b[0m\u001b[0;34m(\u001b[0m\u001b[0mself\u001b[0m\u001b[0;34m,\u001b[0m \u001b[0mtimeout\u001b[0m\u001b[0;34m)\u001b[0m\u001b[0;34m:\u001b[0m\u001b[0;34m\u001b[0m\u001b[0;34m\u001b[0m\u001b[0m\n\u001b[0;32m--> 424\u001b[0;31m         \u001b[0mr\u001b[0m \u001b[0;34m=\u001b[0m \u001b[0mwait\u001b[0m\u001b[0;34m(\u001b[0m\u001b[0;34m[\u001b[0m\u001b[0mself\u001b[0m\u001b[0;34m]\u001b[0m\u001b[0;34m,\u001b[0m \u001b[0mtimeout\u001b[0m\u001b[0;34m)\u001b[0m\u001b[0;34m\u001b[0m\u001b[0;34m\u001b[0m\u001b[0m\n\u001b[0m\u001b[1;32m    425\u001b[0m         \u001b[0;32mreturn\u001b[0m \u001b[0mbool\u001b[0m\u001b[0;34m(\u001b[0m\u001b[0mr\u001b[0m\u001b[0;34m)\u001b[0m\u001b[0;34m\u001b[0m\u001b[0;34m\u001b[0m\u001b[0m\n\u001b[1;32m    426\u001b[0m \u001b[0;34m\u001b[0m\u001b[0m\n",
            "\u001b[0;32m/usr/lib/python3.10/multiprocessing/connection.py\u001b[0m in \u001b[0;36mwait\u001b[0;34m(object_list, timeout)\u001b[0m\n\u001b[1;32m    929\u001b[0m \u001b[0;34m\u001b[0m\u001b[0m\n\u001b[1;32m    930\u001b[0m             \u001b[0;32mwhile\u001b[0m \u001b[0;32mTrue\u001b[0m\u001b[0;34m:\u001b[0m\u001b[0;34m\u001b[0m\u001b[0;34m\u001b[0m\u001b[0m\n\u001b[0;32m--> 931\u001b[0;31m                 \u001b[0mready\u001b[0m \u001b[0;34m=\u001b[0m \u001b[0mselector\u001b[0m\u001b[0;34m.\u001b[0m\u001b[0mselect\u001b[0m\u001b[0;34m(\u001b[0m\u001b[0mtimeout\u001b[0m\u001b[0;34m)\u001b[0m\u001b[0;34m\u001b[0m\u001b[0;34m\u001b[0m\u001b[0m\n\u001b[0m\u001b[1;32m    932\u001b[0m                 \u001b[0;32mif\u001b[0m \u001b[0mready\u001b[0m\u001b[0;34m:\u001b[0m\u001b[0;34m\u001b[0m\u001b[0;34m\u001b[0m\u001b[0m\n\u001b[1;32m    933\u001b[0m                     \u001b[0;32mreturn\u001b[0m \u001b[0;34m[\u001b[0m\u001b[0mkey\u001b[0m\u001b[0;34m.\u001b[0m\u001b[0mfileobj\u001b[0m \u001b[0;32mfor\u001b[0m \u001b[0;34m(\u001b[0m\u001b[0mkey\u001b[0m\u001b[0;34m,\u001b[0m \u001b[0mevents\u001b[0m\u001b[0;34m)\u001b[0m \u001b[0;32min\u001b[0m \u001b[0mready\u001b[0m\u001b[0;34m]\u001b[0m\u001b[0;34m\u001b[0m\u001b[0;34m\u001b[0m\u001b[0m\n",
            "\u001b[0;32m/usr/lib/python3.10/selectors.py\u001b[0m in \u001b[0;36mselect\u001b[0;34m(self, timeout)\u001b[0m\n\u001b[1;32m    414\u001b[0m         \u001b[0mready\u001b[0m \u001b[0;34m=\u001b[0m \u001b[0;34m[\u001b[0m\u001b[0;34m]\u001b[0m\u001b[0;34m\u001b[0m\u001b[0;34m\u001b[0m\u001b[0m\n\u001b[1;32m    415\u001b[0m         \u001b[0;32mtry\u001b[0m\u001b[0;34m:\u001b[0m\u001b[0;34m\u001b[0m\u001b[0;34m\u001b[0m\u001b[0m\n\u001b[0;32m--> 416\u001b[0;31m             \u001b[0mfd_event_list\u001b[0m \u001b[0;34m=\u001b[0m \u001b[0mself\u001b[0m\u001b[0;34m.\u001b[0m\u001b[0m_selector\u001b[0m\u001b[0;34m.\u001b[0m\u001b[0mpoll\u001b[0m\u001b[0;34m(\u001b[0m\u001b[0mtimeout\u001b[0m\u001b[0;34m)\u001b[0m\u001b[0;34m\u001b[0m\u001b[0;34m\u001b[0m\u001b[0m\n\u001b[0m\u001b[1;32m    417\u001b[0m         \u001b[0;32mexcept\u001b[0m \u001b[0mInterruptedError\u001b[0m\u001b[0;34m:\u001b[0m\u001b[0;34m\u001b[0m\u001b[0;34m\u001b[0m\u001b[0m\n\u001b[1;32m    418\u001b[0m             \u001b[0;32mreturn\u001b[0m \u001b[0mready\u001b[0m\u001b[0;34m\u001b[0m\u001b[0;34m\u001b[0m\u001b[0m\n",
            "\u001b[0;31mKeyboardInterrupt\u001b[0m: "
          ]
        }
      ],
      "source": [
        "train(\n",
        "            model,\n",
        "            optimizer,\n",
        "            train_dataloader\n",
        "        )\n",
        "\n"
      ]
    },
    {
      "cell_type": "code",
      "source": [
        "model.eval()\n",
        "with torch.no_grad():\n",
        "  print(model.impute(inputs))"
      ],
      "metadata": {
        "colab": {
          "base_uri": "https://localhost:8080/"
        },
        "id": "7bjA2uQo3vvx",
        "outputId": "3a1b0b3c-37b6-49e0-c10b-ccb5974be3b1"
      },
      "execution_count": 96,
      "outputs": [
        {
          "output_type": "stream",
          "name": "stdout",
          "text": [
            "(tensor([11.4684, 11.4684, 11.4684, 11.4684, 11.4684, 11.4684, 11.4684, 11.4684,\n",
            "        11.4684, 11.4684, 11.4684, 11.4684, 11.4684, 11.4684, 11.4684, 11.4684,\n",
            "        11.4684, 11.4684, 11.4684, 11.4684, 11.4684, 11.4684, 11.4684, 11.4684,\n",
            "        11.4684, 11.4684, 11.4684, 11.4684, 11.4684, 11.4684, 11.4684, 11.4684,\n",
            "        11.4684, 11.4684, 11.4684, 11.4684, 11.4684, 11.4684, 11.4684, 11.4684,\n",
            "        11.4684, 11.4684, 11.4684], device='cuda:0'), tensor([3.8755e-07, 3.8755e-07, 3.8755e-07, 3.8755e-07, 3.8755e-07, 3.8755e-07,\n",
            "        3.8755e-07, 3.8755e-07, 3.8755e-07, 3.8755e-07, 3.8755e-07, 3.8755e-07,\n",
            "        3.8755e-07, 3.8755e-07, 3.8755e-07, 3.8755e-07, 3.8755e-07, 3.8755e-07,\n",
            "        3.8755e-07, 3.8755e-07, 3.8755e-07, 3.8755e-07, 3.8755e-07, 3.8755e-07,\n",
            "        3.8755e-07, 3.8755e-07, 3.8755e-07, 3.8755e-07, 3.8755e-07, 3.8755e-07,\n",
            "        3.8755e-07, 3.8755e-07, 3.8755e-07, 3.8755e-07, 3.8755e-07, 3.8755e-07,\n",
            "        3.8755e-07, 3.8755e-07, 3.8755e-07, 3.8755e-07, 3.8755e-07, 3.8755e-07,\n",
            "        3.8755e-07], device='cuda:0'))\n"
          ]
        }
      ]
    },
    {
      "cell_type": "code",
      "source": [
        "model.impute(inputs)"
      ],
      "metadata": {
        "colab": {
          "base_uri": "https://localhost:8080/"
        },
        "id": "PhgufHLA2jeO",
        "outputId": "436abe87-a731-4530-c89b-a7fcbe108e91"
      },
      "execution_count": 71,
      "outputs": [
        {
          "output_type": "execute_result",
          "data": {
            "text/plain": [
              "(tensor([-98.5634, -98.5634, -98.5634, -98.5634, -98.5634, -98.5634, -98.5634,\n",
              "         -98.5634, -98.5634, -98.5634, -98.5634, -98.5634, -98.5634, -98.5634,\n",
              "         -98.5634, -98.5634, -98.5634, -98.5634, -98.5634, -98.5634, -98.5634,\n",
              "         -98.5634, -98.5634, -98.5634, -98.5634, -98.5634, -98.5634, -98.5634,\n",
              "         -98.5634, -98.5634, -98.5634, -98.5634, -98.5634, -98.5634, -98.5634,\n",
              "         -98.5634, -98.5634, -98.5634, -98.5634, -98.5634, -98.5634, -98.5634,\n",
              "         -98.5634], device='cuda:0', grad_fn=<SelectBackward0>),\n",
              " tensor([0., 0., 0., 0., 0., 0., 0., 0., 0., 0., 0., 0., 0., 0., 0., 0., 0., 0., 0., 0., 0., 0., 0., 0.,\n",
              "         0., 0., 0., 0., 0., 0., 0., 0., 0., 0., 0., 0., 0., 0., 0., 0., 0., 0., 0.],\n",
              "        device='cuda:0', grad_fn=<SoftplusBackward0>))"
            ]
          },
          "metadata": {},
          "execution_count": 71
        }
      ]
    },
    {
      "cell_type": "code",
      "source": [
        "model.impute(inputs)"
      ],
      "metadata": {
        "colab": {
          "base_uri": "https://localhost:8080/"
        },
        "id": "3PeJRn9O1PDz",
        "outputId": "603cdb09-723b-48b8-eff3-2eadb87c238c"
      },
      "execution_count": 66,
      "outputs": [
        {
          "output_type": "execute_result",
          "data": {
            "text/plain": [
              "(tensor([-52.1960, -52.1960, -52.1960, -52.1960, -52.1960, -52.1960, -52.1960,\n",
              "         -52.1960, -52.1960, -52.1960, -52.1960, -52.1960, -52.1960, -52.1960,\n",
              "         -52.1960, -52.1960, -52.1960, -52.1960, -52.1960, -52.1960, -52.1960,\n",
              "         -52.1960, -52.1960, -52.1960, -52.1960, -52.1960, -52.1960, -52.1960,\n",
              "         -52.1960, -52.1960, -52.1960, -52.1960, -52.1960, -52.1960, -52.1960,\n",
              "         -52.1960, -52.1960, -52.1960, -52.1960, -52.1960, -52.1960, -52.1960,\n",
              "         -52.1960], device='cuda:0', grad_fn=<SelectBackward0>),\n",
              " tensor([3.1697e-42, 3.1697e-42, 3.1697e-42, 3.1697e-42, 3.1697e-42, 3.1697e-42,\n",
              "         3.1697e-42, 3.1697e-42, 3.1697e-42, 3.1697e-42, 3.1697e-42, 3.1697e-42,\n",
              "         3.1697e-42, 3.1697e-42, 3.1697e-42, 3.1697e-42, 3.1697e-42, 3.1697e-42,\n",
              "         3.1697e-42, 3.1697e-42, 3.1697e-42, 3.1697e-42, 3.1697e-42, 3.1697e-42,\n",
              "         3.1697e-42, 3.1697e-42, 3.1697e-42, 3.1697e-42, 3.1697e-42, 3.1697e-42,\n",
              "         3.1697e-42, 3.1697e-42, 3.1697e-42, 3.1697e-42, 3.1697e-42, 3.1697e-42,\n",
              "         3.1697e-42, 3.1697e-42, 3.1697e-42, 3.1697e-42, 3.1697e-42, 3.1697e-42,\n",
              "         3.1697e-42], device='cuda:0', grad_fn=<SoftplusBackward0>))"
            ]
          },
          "metadata": {},
          "execution_count": 66
        }
      ]
    }
  ],
  "metadata": {
    "kernelspec": {
      "display_name": "Python 3",
      "name": "python3"
    },
    "language_info": {
      "codemirror_mode": {
        "name": "ipython",
        "version": 3
      },
      "file_extension": ".py",
      "mimetype": "text/x-python",
      "name": "python",
      "nbconvert_exporter": "python",
      "pygments_lexer": "ipython3",
      "version": "3.9.7"
    },
    "colab": {
      "provenance": [],
      "gpuType": "T4"
    },
    "accelerator": "GPU"
  },
  "nbformat": 4,
  "nbformat_minor": 0
}